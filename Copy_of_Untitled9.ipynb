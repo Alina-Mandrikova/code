{
  "nbformat": 4,
  "nbformat_minor": 0,
  "metadata": {
    "colab": {
      "provenance": []
    },
    "kernelspec": {
      "name": "python3",
      "display_name": "Python 3"
    },
    "language_info": {
      "name": "python"
    }
  },
  "cells": [
    {
      "cell_type": "code",
      "execution_count": null,
      "metadata": {
        "colab": {
          "base_uri": "https://localhost:8080/"
        },
        "id": "oXry_d5w_u75",
        "outputId": "23cf3dc4-197b-46e5-b9a7-edafd6309191"
      },
      "outputs": [
        {
          "output_type": "stream",
          "name": "stdout",
          "text": [
            "Collecting pdf2image\n",
            "  Downloading pdf2image-1.17.0-py3-none-any.whl (11 kB)\n",
            "Requirement already satisfied: openai==0.28 in /usr/local/lib/python3.10/dist-packages (0.28.0)\n",
            "Requirement already satisfied: requests>=2.20 in /usr/local/lib/python3.10/dist-packages (from openai==0.28) (2.31.0)\n",
            "Requirement already satisfied: tqdm in /usr/local/lib/python3.10/dist-packages (from openai==0.28) (4.66.4)\n",
            "Requirement already satisfied: aiohttp in /usr/local/lib/python3.10/dist-packages (from openai==0.28) (3.9.5)\n",
            "Requirement already satisfied: pillow in /usr/local/lib/python3.10/dist-packages (from pdf2image) (9.4.0)\n",
            "Requirement already satisfied: charset-normalizer<4,>=2 in /usr/local/lib/python3.10/dist-packages (from requests>=2.20->openai==0.28) (3.3.2)\n",
            "Requirement already satisfied: idna<4,>=2.5 in /usr/local/lib/python3.10/dist-packages (from requests>=2.20->openai==0.28) (3.7)\n",
            "Requirement already satisfied: urllib3<3,>=1.21.1 in /usr/local/lib/python3.10/dist-packages (from requests>=2.20->openai==0.28) (2.0.7)\n",
            "Requirement already satisfied: certifi>=2017.4.17 in /usr/local/lib/python3.10/dist-packages (from requests>=2.20->openai==0.28) (2024.6.2)\n",
            "Requirement already satisfied: aiosignal>=1.1.2 in /usr/local/lib/python3.10/dist-packages (from aiohttp->openai==0.28) (1.3.1)\n",
            "Requirement already satisfied: attrs>=17.3.0 in /usr/local/lib/python3.10/dist-packages (from aiohttp->openai==0.28) (23.2.0)\n",
            "Requirement already satisfied: frozenlist>=1.1.1 in /usr/local/lib/python3.10/dist-packages (from aiohttp->openai==0.28) (1.4.1)\n",
            "Requirement already satisfied: multidict<7.0,>=4.5 in /usr/local/lib/python3.10/dist-packages (from aiohttp->openai==0.28) (6.0.5)\n",
            "Requirement already satisfied: yarl<2.0,>=1.0 in /usr/local/lib/python3.10/dist-packages (from aiohttp->openai==0.28) (1.9.4)\n",
            "Requirement already satisfied: async-timeout<5.0,>=4.0 in /usr/local/lib/python3.10/dist-packages (from aiohttp->openai==0.28) (4.0.3)\n",
            "Installing collected packages: pdf2image\n",
            "Successfully installed pdf2image-1.17.0\n",
            "Reading package lists... Done\n",
            "Building dependency tree... Done\n",
            "Reading state information... Done\n",
            "The following NEW packages will be installed:\n",
            "  poppler-utils\n",
            "0 upgraded, 1 newly installed, 0 to remove and 45 not upgraded.\n",
            "Need to get 186 kB of archives.\n",
            "After this operation, 696 kB of additional disk space will be used.\n",
            "Get:1 http://archive.ubuntu.com/ubuntu jammy-updates/main amd64 poppler-utils amd64 22.02.0-2ubuntu0.4 [186 kB]\n",
            "Fetched 186 kB in 1s (356 kB/s)\n",
            "Selecting previously unselected package poppler-utils.\n",
            "(Reading database ... 121925 files and directories currently installed.)\n",
            "Preparing to unpack .../poppler-utils_22.02.0-2ubuntu0.4_amd64.deb ...\n",
            "Unpacking poppler-utils (22.02.0-2ubuntu0.4) ...\n",
            "Setting up poppler-utils (22.02.0-2ubuntu0.4) ...\n",
            "Processing triggers for man-db (2.10.2-1) ...\n",
            "Requirement already satisfied: Pillow in /usr/local/lib/python3.10/dist-packages (9.4.0)\n",
            "Requirement already satisfied: pytesseract in /usr/local/lib/python3.10/dist-packages (0.3.10)\n",
            "Requirement already satisfied: packaging>=21.3 in /usr/local/lib/python3.10/dist-packages (from pytesseract) (24.1)\n",
            "Requirement already satisfied: Pillow>=8.0.0 in /usr/local/lib/python3.10/dist-packages (from pytesseract) (9.4.0)\n",
            "Requirement already satisfied: pdfplumber in /usr/local/lib/python3.10/dist-packages (0.11.1)\n",
            "Requirement already satisfied: pdfminer.six==20231228 in /usr/local/lib/python3.10/dist-packages (from pdfplumber) (20231228)\n",
            "Requirement already satisfied: Pillow>=9.1 in /usr/local/lib/python3.10/dist-packages (from pdfplumber) (9.4.0)\n",
            "Requirement already satisfied: pypdfium2>=4.18.0 in /usr/local/lib/python3.10/dist-packages (from pdfplumber) (4.30.0)\n",
            "Requirement already satisfied: charset-normalizer>=2.0.0 in /usr/local/lib/python3.10/dist-packages (from pdfminer.six==20231228->pdfplumber) (3.3.2)\n",
            "Requirement already satisfied: cryptography>=36.0.0 in /usr/local/lib/python3.10/dist-packages (from pdfminer.six==20231228->pdfplumber) (42.0.8)\n",
            "Requirement already satisfied: cffi>=1.12 in /usr/local/lib/python3.10/dist-packages (from cryptography>=36.0.0->pdfminer.six==20231228->pdfplumber) (1.16.0)\n",
            "Requirement already satisfied: pycparser in /usr/local/lib/python3.10/dist-packages (from cffi>=1.12->cryptography>=36.0.0->pdfminer.six==20231228->pdfplumber) (2.22)\n",
            "Requirement already satisfied: fpdf in /usr/local/lib/python3.10/dist-packages (1.7.2)\n"
          ]
        }
      ],
      "source": [
        "!pip install pdf2image openai==0.28\n",
        "!apt-get install -y poppler-utils\n",
        "!pip install Pillow\n",
        "!pip install pytesseract\n",
        "!pip install pdfplumber\n",
        "!pip install fpdf"
      ]
    },
    {
      "cell_type": "code",
      "source": [
        "import re\n",
        "from PIL import Image\n",
        "import pytesseract\n",
        "import pdfplumber\n",
        "from pdf2image import convert_from_path\n",
        "from fpdf import FPDF\n",
        "import openai\n",
        "import os"
      ],
      "metadata": {
        "id": "FjQ1e2gB_0BC"
      },
      "execution_count": null,
      "outputs": []
    },
    {
      "cell_type": "code",
      "source": [
        "# Get the OpenAI API key from the environment variable\n",
        "api_key = \"sk-proj-K1mZ2v2kmlDIRT6trrAjT3BlbkFJsrcwpzxjOHiFQMTnafcq\"\n",
        "if not api_key:\n",
        "    st.error(\"API key not found. Please set the OPENAI_API_KEY environment variable.\")\n",
        "else:\n",
        "    openai.api_key = api_key"
      ],
      "metadata": {
        "id": "nAEidayLADwS"
      },
      "execution_count": null,
      "outputs": []
    },
    {
      "cell_type": "code",
      "source": [
        "def extract_text_from_image(image_path):\n",
        "    try:\n",
        "        image = Image.open(image_path)\n",
        "        text = pytesseract.image_to_string(image)\n",
        "        return text\n",
        "    except Exception as e:\n",
        "        print(f\"Error extracting text from image: {e}\")\n",
        "        return None"
      ],
      "metadata": {
        "id": "bOaKzBmUAGsa"
      },
      "execution_count": null,
      "outputs": []
    },
    {
      "cell_type": "code",
      "source": [
        "def extract_text_from_pdf(file_path):\n",
        "    try:\n",
        "        text = \"\"\n",
        "        with pdfplumber.open(file_path) as pdf:\n",
        "            for page in pdf.pages:\n",
        "                text += page.extract_text()\n",
        "        return text\n",
        "    except Exception as e:\n",
        "        print(f\"Error extracting text from PDF: {e}\")\n",
        "        return None"
      ],
      "metadata": {
        "id": "Y2DgB2KNAMVm"
      },
      "execution_count": null,
      "outputs": []
    },
    {
      "cell_type": "code",
      "source": [
        "def analyze_contract(text):\n",
        "    try:\n",
        "        messages = [\n",
        "            {\"role\": \"system\", \"content\": \"You are a helpful assistant.\"},\n",
        "            {\"role\": \"user\", \"content\": f\"Analyze the following contract text and extract the contract party, contract number, date of birth, and quitting party:\\n\\n{text}\\n\\n\"}\n",
        "        ]\n",
        "        response = openai.ChatCompletion.create(\n",
        "            model=\"gpt-4\",\n",
        "            messages=messages,\n",
        "            max_tokens=500\n",
        "        )\n",
        "        analysis_result = response.choices[0].message[\"content\"].strip()\n",
        "        return analysis_result\n",
        "    except Exception as e:\n",
        "        print(f\"Error analyzing contract: {e}\")\n",
        "        return None"
      ],
      "metadata": {
        "id": "PH98Jq6UUy4u"
      },
      "execution_count": null,
      "outputs": []
    },
    {
      "cell_type": "code",
      "source": [
        "def extract_information(analysis_result):\n",
        "    try:\n",
        "        contract_party = re.search(r'(Vodafone GmbH|.*?GmbH)', analysis_result).group(0)\n",
        "        contract_number = re.search(r'\\b\\d{10,11}\\b', analysis_result).group(0)\n",
        "        date_of_birth = re.search(r'\\d{2}\\.\\d{2}\\.\\d{4}', analysis_result).group(0)\n",
        "        quitting_party = re.search(r'Max Mustermann|[A-Za-z]+\\s[A-Za-z]+', analysis_result).group(0)\n",
        "\n",
        "        data = {\n",
        "            \"parties\": contract_party,\n",
        "            \"contract_number\": contract_number,\n",
        "            \"date_of_birth\": date_of_birth,\n",
        "            \"quitting_party\": quitting_party\n",
        "        }\n",
        "        return data\n",
        "    except Exception as e:\n",
        "        print(f\"Error extracting information: {e}\")\n",
        "        return None"
      ],
      "metadata": {
        "id": "8VcPV6G_U8_o"
      },
      "execution_count": null,
      "outputs": []
    },
    {
      "cell_type": "code",
      "source": [
        "def generate_termination_pdf(data, output_path=\"/content/drive/My Drive/termination_contract.pdf\"):\n",
        "    try:\n",
        "        pdf = FPDF()\n",
        "        pdf.add_page()\n",
        "        pdf.set_font(\"Arial\", size=12)\n",
        "\n",
        "        # Add contract party information\n",
        "        pdf.cell(200, 10, txt=\"Max Mustermann · Kaulbachstraße 60 · 80539 München\", ln=True, align='C')\n",
        "        pdf.cell(200, 10, txt=\"\", ln=True)  # Empty line\n",
        "\n",
        "        # Add contract party and contract number information\n",
        "        pdf.cell(200, 10, txt=f\"{data['parties']}\", ln=True)\n",
        "        pdf.cell(200, 10, txt=\"Mobilfunk\", ln=True)\n",
        "        pdf.cell(200, 10, txt=\"Kundenbetreuung\", ln=True)\n",
        "        pdf.cell(200, 10, txt=\"40875 Ratingen\", ln=True)\n",
        "        pdf.cell(200, 10, txt=\"\", ln=True)  # Empty line\n",
        "\n",
        "        # Add contract number and date of birth information\n",
        "        pdf.cell(200, 10, txt=f\"Vodafone-Handynummer: {data['contract_number']}  Geburtsdatum: {data['date_of_birth']}\", ln=True)\n",
        "        pdf.cell(200, 10, txt=\"\", ln=True)  # Empty line\n",
        "\n",
        "        # Add termination information\n",
        "        pdf.set_font(\"Arial\", size=14, style='B')\n",
        "        pdf.cell(200, 10, txt=\"Kündigung zum nächstmöglichen Zeitpunkt\", ln=True)\n",
        "        pdf.set_font(\"Arial\", size=12)\n",
        "        pdf.cell(200, 10, txt=\"28.06.2024\", ln=True, align='R')\n",
        "        pdf.cell(200, 10, txt=\"\", ln=True)  # Empty line\n",
        "\n",
        "        # Add termination letter content\n",
        "        pdf.multi_cell(200, 10, txt=\"Sehr geehrte Damen und Herren,\\n\\n\"\n",
        "                                    \"hiermit kündige ich meinen Vertrag fristgerecht zum nächstmöglichen Zeitpunkt. \"\n",
        "                                    \"Bitte senden Sie mir eine schriftliche Bestätigung der Kündigung unter Angabe des Beendigungszeitpunktes zu.\\n\\n\"\n",
        "                                    \"Mit freundlichen Grüßen\\n\\n\")\n",
        "        pdf.set_font(\"Arial\", size=16, style='B')\n",
        "        pdf.cell(200, 10, txt=f\"{data['quitting_party']}\", ln=True)\n",
        "        pdf.set_font(\"Arial\", size=12)\n",
        "        pdf.cell(200, 10, txt=f\"{data['quitting_party']}\", ln=True)\n",
        "\n",
        "        pdf.output(output_path)\n",
        "        print(f\"Termination Contract generated: {output_path}\")\n",
        "        return True\n",
        "    except Exception as e:\n",
        "        print(f\"Error generating PDF: {e}\")\n",
        "        return False"
      ],
      "metadata": {
        "id": "Ymw1lVxxAQ6C"
      },
      "execution_count": null,
      "outputs": []
    },
    {
      "cell_type": "code",
      "source": [
        "def generate_signature_with_dalle(prompt):\n",
        "    try:\n",
        "        response = openai.Image.create(\n",
        "            prompt=prompt,\n",
        "            n=1,\n",
        "            size=\"256x256\"\n",
        "        )\n",
        "        image_url = response['data'][0]['url']\n",
        "        return image_url\n",
        "    except Exception as e:\n",
        "        print(f\"Error generating image with DALL-E: {e}\")\n",
        "        return None"
      ],
      "metadata": {
        "id": "YmPfVHTjATBO"
      },
      "execution_count": null,
      "outputs": []
    },
    {
      "cell_type": "code",
      "source": [
        "from google.colab import drive\n",
        "drive.mount('/content/drive')\n",
        "\n",
        "# 确保文件路径正确\n",
        "pdf_path = \"/content/drive/My Drive/Insurance1.pdf\"\n",
        "print(f\"PDF path: {pdf_path}\")\n"
      ],
      "metadata": {
        "colab": {
          "base_uri": "https://localhost:8080/"
        },
        "id": "NuJ9rN5PAWhJ",
        "outputId": "c74fa5b1-bb7f-43b1-ba13-affbcb7315a3"
      },
      "execution_count": null,
      "outputs": [
        {
          "output_type": "stream",
          "name": "stdout",
          "text": [
            "Drive already mounted at /content/drive; to attempt to forcibly remount, call drive.mount(\"/content/drive\", force_remount=True).\n",
            "PDF path: /content/drive/My Drive/Insurance1.pdf\n"
          ]
        }
      ]
    },
    {
      "cell_type": "code",
      "source": [
        "pdf_text = extract_text_from_pdf(pdf_path)\n",
        "if pdf_text:\n",
        "    print(\"Extracted text from PDF:\")\n",
        "    print(pdf_text)\n",
        "    analysis_result = analyze_contract(pdf_text)\n",
        "    if analysis_result:\n",
        "        print(\"Analysis result from GPT-4:\")\n",
        "        print(analysis_result)\n",
        "        contract_data = extract_information(analysis_result)\n",
        "        if contract_data:\n",
        "            print(\"Contract data extracted:\")\n",
        "            print(contract_data)\n",
        "            generate_termination_pdf(contract_data)\n",
        "            # List files to check if the output PDF is generated\n",
        "            print(os.listdir(\"/content/drive/My Drive/\"))\n",
        "else:\n",
        "    print(\"Failed to extract text from PDF.\")"
      ],
      "metadata": {
        "colab": {
          "base_uri": "https://localhost:8080/"
        },
        "id": "EMw3ZqioS_Yh",
        "outputId": "3ed08ae5-5eaf-48a8-c2bc-8bcf47b6da52"
      },
      "execution_count": null,
      "outputs": [
        {
          "output_type": "stream",
          "name": "stdout",
          "text": [
            "Extracted text from PDF:\n",
            "Fintiba GmbH | Wilhelm-Leuschner-Str. 29 | DE-60329 Frankfurt a. M.\n",
            "Fintiba GmbH\n",
            "WWiillhheellmm--LLeeuusscchhnneerr--SSttrraaßßee 2299\n",
            "Frau 60329 Frankfurt am Main\n",
            "Zhu GGeerrmmaannyy\n",
            "Mohan\n",
            "+49 69 204 34 26 21\n",
            "behoerden@fintiba.com\n",
            "23.06.2023\n",
            "Health Insurance Confirmation for Visa Application (DAK-Gesundheit)\n",
            "Dear Sir or Madame,\n",
            "hereby, we confirm that\n",
            "First Name(s) Mohan\n",
            "Surname Zhu\n",
            "Date of Birth 23.06.2001\n",
            "Place of Birth Anhui,China\n",
            "Passport Number EJ3620539\n",
            "Issued on 17.10.2022\n",
            "By CN\n",
            "successfully applied for a governmental health insurance at DAK-Gesundheit. The governmental health insurance only\n",
            "takes effect after official enrolment at the university of choice.\n",
            "The necessary health insurance documents for university enrolment will be provided as soon as DAK-Gesundheit\n",
            "has confirmed the application and the health insurance number is available.\n",
            "The governmental health insurance at DAK-Gesundheit will be active after the enrolment certificate has been\n",
            "provided to DAK-Gesundheit - either through the German university or by uploading the enrolment certificate in\n",
            "the Fintiba account.\n",
            "If, in case of the applicant mentioned above, there is a time gap between the date of arrival in Germany and the official\n",
            "enrolment date, a seperate incoming insurance confirmation must be provided covering that time gap.\n",
            "Kind regards,\n",
            "Fintiba GmbH\n",
            "Error analyzing contract: \n",
            "\n",
            "You tried to access openai.ChatCompletion, but this is no longer supported in openai>=1.0.0 - see the README at https://github.com/openai/openai-python for the API.\n",
            "\n",
            "You can run `openai migrate` to automatically upgrade your codebase to use the 1.0.0 interface. \n",
            "\n",
            "Alternatively, you can pin your installation to the old version, e.g. `pip install openai==0.28`\n",
            "\n",
            "A detailed migration guide is available here: https://github.com/openai/openai-python/discussions/742\n",
            "\n"
          ]
        }
      ]
    },
    {
      "cell_type": "code",
      "source": [
        "\n",
        "print(os.listdir(\"/content/drive/My Drive/\"))"
      ],
      "metadata": {
        "colab": {
          "base_uri": "https://localhost:8080/"
        },
        "id": "MU8-28yBSfSL",
        "outputId": "9e8f8a22-5d24-4428-c57d-7222aa4f1192"
      },
      "execution_count": null,
      "outputs": [
        {
          "output_type": "stream",
          "name": "stdout",
          "text": [
            "['Colab Notebooks', 'logo.jpg', 'Vertrag - 31.10.2023.pdf', 'Insurance.pdf', 'Insurance1.pdf']\n"
          ]
        }
      ]
    }
  ]
}